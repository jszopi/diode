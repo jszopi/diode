from IPython.html.widgets import *
import numpy as np
import matplotlib.pyplot as plt
xs = np.arange(-0.5, 3, 0.1)

def current(V, V_t, I_s):
    return I_s*(np.exp(V/V_t)-1)

def plot_current(V_t, I_s):
    plt.plot(xs, current(xs, V_t, I_s))
    plt.plot((xs[0], xs[-1]), (0, 0), 'g--')
    plt.plot((0, 0),(-10, 50), 'g--')
    plt.ylim(-10, 50)
    plt.xlim(xs[0], xs[-1])
    plt.show()
 
interact(plot_current, V_t=(0.1, 1, 0.1), I_s=(0, 10, 0.1))
